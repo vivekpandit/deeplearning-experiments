{
  "nbformat": 4,
  "nbformat_minor": 0,
  "metadata": {
    "colab": {
      "name": "spacy_summarization.ipynb",
      "provenance": [],
      "authorship_tag": "ABX9TyPwvz0qck3WPFWhSfMxl1aM",
      "include_colab_link": true
    },
    "kernelspec": {
      "name": "python3",
      "display_name": "Python 3"
    }
  },
  "cells": [
    {
      "cell_type": "markdown",
      "metadata": {
        "id": "view-in-github",
        "colab_type": "text"
      },
      "source": [
        "<a href=\"https://colab.research.google.com/github/vivekpandit/deeplearning-experiments/blob/main/spacy_summarization.ipynb\" target=\"_parent\"><img src=\"https://colab.research.google.com/assets/colab-badge.svg\" alt=\"Open In Colab\"/></a>"
      ]
    },
    {
      "cell_type": "code",
      "metadata": {
        "colab": {
          "base_uri": "https://localhost:8080/"
        },
        "id": "gY1eMZIhFybI",
        "outputId": "04c28d04-77e5-43fb-9e45-6c81e10ad886"
      },
      "source": [
        "!pip install spacy"
      ],
      "execution_count": 1,
      "outputs": [
        {
          "output_type": "stream",
          "text": [
            "Requirement already satisfied: spacy in /usr/local/lib/python3.7/dist-packages (2.2.4)\n",
            "Requirement already satisfied: murmurhash<1.1.0,>=0.28.0 in /usr/local/lib/python3.7/dist-packages (from spacy) (1.0.5)\n",
            "Requirement already satisfied: numpy>=1.15.0 in /usr/local/lib/python3.7/dist-packages (from spacy) (1.19.5)\n",
            "Requirement already satisfied: wasabi<1.1.0,>=0.4.0 in /usr/local/lib/python3.7/dist-packages (from spacy) (0.8.2)\n",
            "Requirement already satisfied: requests<3.0.0,>=2.13.0 in /usr/local/lib/python3.7/dist-packages (from spacy) (2.23.0)\n",
            "Requirement already satisfied: preshed<3.1.0,>=3.0.2 in /usr/local/lib/python3.7/dist-packages (from spacy) (3.0.5)\n",
            "Requirement already satisfied: setuptools in /usr/local/lib/python3.7/dist-packages (from spacy) (54.0.0)\n",
            "Requirement already satisfied: plac<1.2.0,>=0.9.6 in /usr/local/lib/python3.7/dist-packages (from spacy) (1.1.3)\n",
            "Requirement already satisfied: tqdm<5.0.0,>=4.38.0 in /usr/local/lib/python3.7/dist-packages (from spacy) (4.41.1)\n",
            "Requirement already satisfied: srsly<1.1.0,>=1.0.2 in /usr/local/lib/python3.7/dist-packages (from spacy) (1.0.5)\n",
            "Requirement already satisfied: thinc==7.4.0 in /usr/local/lib/python3.7/dist-packages (from spacy) (7.4.0)\n",
            "Requirement already satisfied: catalogue<1.1.0,>=0.0.7 in /usr/local/lib/python3.7/dist-packages (from spacy) (1.0.0)\n",
            "Requirement already satisfied: blis<0.5.0,>=0.4.0 in /usr/local/lib/python3.7/dist-packages (from spacy) (0.4.1)\n",
            "Requirement already satisfied: cymem<2.1.0,>=2.0.2 in /usr/local/lib/python3.7/dist-packages (from spacy) (2.0.5)\n",
            "Requirement already satisfied: certifi>=2017.4.17 in /usr/local/lib/python3.7/dist-packages (from requests<3.0.0,>=2.13.0->spacy) (2020.12.5)\n",
            "Requirement already satisfied: idna<3,>=2.5 in /usr/local/lib/python3.7/dist-packages (from requests<3.0.0,>=2.13.0->spacy) (2.10)\n",
            "Requirement already satisfied: urllib3!=1.25.0,!=1.25.1,<1.26,>=1.21.1 in /usr/local/lib/python3.7/dist-packages (from requests<3.0.0,>=2.13.0->spacy) (1.24.3)\n",
            "Requirement already satisfied: chardet<4,>=3.0.2 in /usr/local/lib/python3.7/dist-packages (from requests<3.0.0,>=2.13.0->spacy) (3.0.4)\n",
            "Requirement already satisfied: importlib-metadata>=0.20; python_version < \"3.8\" in /usr/local/lib/python3.7/dist-packages (from catalogue<1.1.0,>=0.0.7->spacy) (3.7.0)\n",
            "Requirement already satisfied: zipp>=0.5 in /usr/local/lib/python3.7/dist-packages (from importlib-metadata>=0.20; python_version < \"3.8\"->catalogue<1.1.0,>=0.0.7->spacy) (3.4.0)\n",
            "Requirement already satisfied: typing-extensions>=3.6.4; python_version < \"3.8\" in /usr/local/lib/python3.7/dist-packages (from importlib-metadata>=0.20; python_version < \"3.8\"->catalogue<1.1.0,>=0.0.7->spacy) (3.7.4.3)\n"
          ],
          "name": "stdout"
        }
      ]
    },
    {
      "cell_type": "code",
      "metadata": {
        "id": "pLFe6wUrHixb"
      },
      "source": [
        "import spacy\n",
        "from spacy.lang.en.stop_words import STOP_WORDS"
      ],
      "execution_count": 17,
      "outputs": []
    },
    {
      "cell_type": "code",
      "metadata": {
        "id": "A8upPNZTHkgE"
      },
      "source": [
        "stopwords=list(STOP_WORDS)\n",
        "from string import punctuation\n",
        "punctuation=punctuation+ '\\n'"
      ],
      "execution_count": 18,
      "outputs": []
    },
    {
      "cell_type": "code",
      "metadata": {
        "id": "tZqPxQZuHqjh"
      },
      "source": [
        "text=\"\"\"The human coronavirus was first diagnosed in 1965 by Tyrrell and Bynoe from the respiratory tract sample of an adult with a common cold cultured on human embryonic trachea.1 Naming the virus is based on its crown-like appearance on its surface.2 Coronaviruses (CoVs) are a large family of viruses belonging to the Nidovirales order, which includes Coronaviridae, Arteriviridae, and Roniviridae families.3 Coronavirus contains an RNA genome and belongs to the Coronaviridae family.4 This virus is further subdivided into four groups, ie, the α, β, γ, and δ coronaviruses.5 α- and β-coronavirus can infect mammals, while γ- and δ- coronavirus tend to infect birds.6 Coronavirus in humans causes a range of disorders, from mild respiratory tract infections, such as the common cold to lethal infections, such as the severe acute respiratory syndrome (SARS), Middle East respiratory syndrome (MERS) and Coronavirus disease 2019 (COVID-19). The coronavirus first appeared in the form of severe acute respiratory syndrome coronavirus (SARS-CoV) in Guangdong province, China, in 20027 followed by Middle East respiratory syndrome coronavirus (MERS-CoV) isolated from the sputum of a 60-year-old man who presented symptoms of acute pneumonia and subsequent renal failure in Saudi Arabia in 2012.8 In December 2019, a β-coronavirus was discovered in Wuhan, China. The World Health Organization (WHO) has named the new disease as Coronavirus disease 2019 (COVID-19), and Coronavirus Study Group (CSG) of the International Committee has named it as SARS-CoV-2.9,10 Based on the results of sequencing and evolutionary analysis of the viral genome, bats appear to be responsible for transmitting the virus to humans\"\"\""
      ],
      "execution_count": 19,
      "outputs": []
    },
    {
      "cell_type": "code",
      "metadata": {
        "colab": {
          "base_uri": "https://localhost:8080/"
        },
        "id": "DtukrGVNHy7-",
        "outputId": "91168ed9-4722-45c0-c0df-7fba05b16575"
      },
      "source": [
        "nlp = spacy.load('en_core_web_sm')\n",
        "doc= nlp(text)\n",
        "tokens=[token.text for token in doc]\n",
        "print(tokens)"
      ],
      "execution_count": 20,
      "outputs": [
        {
          "output_type": "stream",
          "text": [
            "['The', 'human', 'coronavirus', 'was', 'first', 'diagnosed', 'in', '1965', 'by', 'Tyrrell', 'and', 'Bynoe', 'from', 'the', 'respiratory', 'tract', 'sample', 'of', 'an', 'adult', 'with', 'a', 'common', 'cold', 'cultured', 'on', 'human', 'embryonic', 'trachea.1', 'Naming', 'the', 'virus', 'is', 'based', 'on', 'its', 'crown', '-', 'like', 'appearance', 'on', 'its', 'surface.2', 'Coronaviruses', '(', 'CoVs', ')', 'are', 'a', 'large', 'family', 'of', 'viruses', 'belonging', 'to', 'the', 'Nidovirales', 'order', ',', 'which', 'includes', 'Coronaviridae', ',', 'Arteriviridae', ',', 'and', 'Roniviridae', 'families.3', 'Coronavirus', 'contains', 'an', 'RNA', 'genome', 'and', 'belongs', 'to', 'the', 'Coronaviridae', 'family.4', 'This', 'virus', 'is', 'further', 'subdivided', 'into', 'four', 'groups', ',', 'ie', ',', 'the', 'α', ',', 'β', ',', 'γ', ',', 'and', 'δ', 'coronaviruses.5', 'α-', 'and', 'β', '-', 'coronavirus', 'can', 'infect', 'mammals', ',', 'while', 'γ-', 'and', 'δ-', 'coronavirus', 'tend', 'to', 'infect', 'birds.6', 'Coronavirus', 'in', 'humans', 'causes', 'a', 'range', 'of', 'disorders', ',', 'from', 'mild', 'respiratory', 'tract', 'infections', ',', 'such', 'as', 'the', 'common', 'cold', 'to', 'lethal', 'infections', ',', 'such', 'as', 'the', 'severe', 'acute', 'respiratory', 'syndrome', '(', 'SARS', ')', ',', 'Middle', 'East', 'respiratory', 'syndrome', '(', 'MERS', ')', 'and', 'Coronavirus', 'disease', '2019', '(', 'COVID-19', ')', '.', 'The', 'coronavirus', 'first', 'appeared', 'in', 'the', 'form', 'of', 'severe', 'acute', 'respiratory', 'syndrome', 'coronavirus', '(', 'SARS', '-', 'CoV', ')', 'in', 'Guangdong', 'province', ',', 'China', ',', 'in', '20027', 'followed', 'by', 'Middle', 'East', 'respiratory', 'syndrome', 'coronavirus', '(', 'MERS', '-', 'CoV', ')', 'isolated', 'from', 'the', 'sputum', 'of', 'a', '60-year', '-', 'old', 'man', 'who', 'presented', 'symptoms', 'of', 'acute', 'pneumonia', 'and', 'subsequent', 'renal', 'failure', 'in', 'Saudi', 'Arabia', 'in', '2012.8', 'In', 'December', '2019', ',', 'a', 'β', '-', 'coronavirus', 'was', 'discovered', 'in', 'Wuhan', ',', 'China', '.', 'The', 'World', 'Health', 'Organization', '(', 'WHO', ')', 'has', 'named', 'the', 'new', 'disease', 'as', 'Coronavirus', 'disease', '2019', '(', 'COVID-19', ')', ',', 'and', 'Coronavirus', 'Study', 'Group', '(', 'CSG', ')', 'of', 'the', 'International', 'Committee', 'has', 'named', 'it', 'as', 'SARS', '-', 'CoV-2.9,10', 'Based', 'on', 'the', 'results', 'of', 'sequencing', 'and', 'evolutionary', 'analysis', 'of', 'the', 'viral', 'genome', ',', 'bats', 'appear', 'to', 'be', 'responsible', 'for', 'transmitting', 'the', 'virus', 'to', 'humans']\n"
          ],
          "name": "stdout"
        }
      ]
    },
    {
      "cell_type": "code",
      "metadata": {
        "id": "TYU19YyKH5Q8"
      },
      "source": [
        "word_frequencies={}\n",
        "for word in doc:\n",
        "    if word.text.lower() not in stopwords:\n",
        "        if word.text.lower() not in punctuation:\n",
        "            if word.text not in word_frequencies.keys():\n",
        "                word_frequencies[word.text] = 1\n",
        "            else:\n",
        "                word_frequencies[word.text] += 1"
      ],
      "execution_count": 21,
      "outputs": []
    },
    {
      "cell_type": "code",
      "metadata": {
        "colab": {
          "base_uri": "https://localhost:8080/"
        },
        "id": "rZ0ruUNLH9dx",
        "outputId": "416a21ae-2f73-4310-b741-58b5441fa705"
      },
      "source": [
        "print(word_frequencies)"
      ],
      "execution_count": 22,
      "outputs": [
        {
          "output_type": "stream",
          "text": [
            "{'human': 2, 'coronavirus': 7, 'diagnosed': 1, '1965': 1, 'Tyrrell': 1, 'Bynoe': 1, 'respiratory': 6, 'tract': 2, 'sample': 1, 'adult': 1, 'common': 2, 'cold': 2, 'cultured': 1, 'embryonic': 1, 'trachea.1': 1, 'Naming': 1, 'virus': 3, 'based': 1, 'crown': 1, 'like': 1, 'appearance': 1, 'surface.2': 1, 'Coronaviruses': 1, 'CoVs': 1, 'large': 1, 'family': 1, 'viruses': 1, 'belonging': 1, 'Nidovirales': 1, 'order': 1, 'includes': 1, 'Coronaviridae': 2, 'Arteriviridae': 1, 'Roniviridae': 1, 'families.3': 1, 'Coronavirus': 5, 'contains': 1, 'RNA': 1, 'genome': 2, 'belongs': 1, 'family.4': 1, 'subdivided': 1, 'groups': 1, 'ie': 1, 'α': 1, 'β': 3, 'γ': 1, 'δ': 1, 'coronaviruses.5': 1, 'α-': 1, 'infect': 2, 'mammals': 1, 'γ-': 1, 'δ-': 1, 'tend': 1, 'birds.6': 1, 'humans': 2, 'causes': 1, 'range': 1, 'disorders': 1, 'mild': 1, 'infections': 2, 'lethal': 1, 'severe': 2, 'acute': 3, 'syndrome': 4, 'SARS': 3, 'Middle': 2, 'East': 2, 'MERS': 2, 'disease': 3, '2019': 3, 'COVID-19': 2, 'appeared': 1, 'form': 1, 'CoV': 2, 'Guangdong': 1, 'province': 1, 'China': 2, '20027': 1, 'followed': 1, 'isolated': 1, 'sputum': 1, '60-year': 1, 'old': 1, 'man': 1, 'presented': 1, 'symptoms': 1, 'pneumonia': 1, 'subsequent': 1, 'renal': 1, 'failure': 1, 'Saudi': 1, 'Arabia': 1, '2012.8': 1, 'December': 1, 'discovered': 1, 'Wuhan': 1, 'World': 1, 'Health': 1, 'Organization': 1, 'named': 2, 'new': 1, 'Study': 1, 'Group': 1, 'CSG': 1, 'International': 1, 'Committee': 1, 'CoV-2.9,10': 1, 'Based': 1, 'results': 1, 'sequencing': 1, 'evolutionary': 1, 'analysis': 1, 'viral': 1, 'bats': 1, 'appear': 1, 'responsible': 1, 'transmitting': 1}\n"
          ],
          "name": "stdout"
        }
      ]
    },
    {
      "cell_type": "code",
      "metadata": {
        "id": "MLTkYFRRIEvX"
      },
      "source": [
        "max_frequency=max(word_frequencies.values())\n",
        "for word in word_frequencies.keys():\n",
        "    word_frequencies[word]=word_frequencies[word]/max_frequency"
      ],
      "execution_count": 23,
      "outputs": []
    },
    {
      "cell_type": "code",
      "metadata": {
        "colab": {
          "base_uri": "https://localhost:8080/"
        },
        "id": "GHuz4WLRIJKF",
        "outputId": "28ff0184-3373-4874-8577-7922b0bb32f1"
      },
      "source": [
        "print(word_frequencies)"
      ],
      "execution_count": 24,
      "outputs": [
        {
          "output_type": "stream",
          "text": [
            "{'human': 0.2857142857142857, 'coronavirus': 1.0, 'diagnosed': 0.14285714285714285, '1965': 0.14285714285714285, 'Tyrrell': 0.14285714285714285, 'Bynoe': 0.14285714285714285, 'respiratory': 0.8571428571428571, 'tract': 0.2857142857142857, 'sample': 0.14285714285714285, 'adult': 0.14285714285714285, 'common': 0.2857142857142857, 'cold': 0.2857142857142857, 'cultured': 0.14285714285714285, 'embryonic': 0.14285714285714285, 'trachea.1': 0.14285714285714285, 'Naming': 0.14285714285714285, 'virus': 0.42857142857142855, 'based': 0.14285714285714285, 'crown': 0.14285714285714285, 'like': 0.14285714285714285, 'appearance': 0.14285714285714285, 'surface.2': 0.14285714285714285, 'Coronaviruses': 0.14285714285714285, 'CoVs': 0.14285714285714285, 'large': 0.14285714285714285, 'family': 0.14285714285714285, 'viruses': 0.14285714285714285, 'belonging': 0.14285714285714285, 'Nidovirales': 0.14285714285714285, 'order': 0.14285714285714285, 'includes': 0.14285714285714285, 'Coronaviridae': 0.2857142857142857, 'Arteriviridae': 0.14285714285714285, 'Roniviridae': 0.14285714285714285, 'families.3': 0.14285714285714285, 'Coronavirus': 0.7142857142857143, 'contains': 0.14285714285714285, 'RNA': 0.14285714285714285, 'genome': 0.2857142857142857, 'belongs': 0.14285714285714285, 'family.4': 0.14285714285714285, 'subdivided': 0.14285714285714285, 'groups': 0.14285714285714285, 'ie': 0.14285714285714285, 'α': 0.14285714285714285, 'β': 0.42857142857142855, 'γ': 0.14285714285714285, 'δ': 0.14285714285714285, 'coronaviruses.5': 0.14285714285714285, 'α-': 0.14285714285714285, 'infect': 0.2857142857142857, 'mammals': 0.14285714285714285, 'γ-': 0.14285714285714285, 'δ-': 0.14285714285714285, 'tend': 0.14285714285714285, 'birds.6': 0.14285714285714285, 'humans': 0.2857142857142857, 'causes': 0.14285714285714285, 'range': 0.14285714285714285, 'disorders': 0.14285714285714285, 'mild': 0.14285714285714285, 'infections': 0.2857142857142857, 'lethal': 0.14285714285714285, 'severe': 0.2857142857142857, 'acute': 0.42857142857142855, 'syndrome': 0.5714285714285714, 'SARS': 0.42857142857142855, 'Middle': 0.2857142857142857, 'East': 0.2857142857142857, 'MERS': 0.2857142857142857, 'disease': 0.42857142857142855, '2019': 0.42857142857142855, 'COVID-19': 0.2857142857142857, 'appeared': 0.14285714285714285, 'form': 0.14285714285714285, 'CoV': 0.2857142857142857, 'Guangdong': 0.14285714285714285, 'province': 0.14285714285714285, 'China': 0.2857142857142857, '20027': 0.14285714285714285, 'followed': 0.14285714285714285, 'isolated': 0.14285714285714285, 'sputum': 0.14285714285714285, '60-year': 0.14285714285714285, 'old': 0.14285714285714285, 'man': 0.14285714285714285, 'presented': 0.14285714285714285, 'symptoms': 0.14285714285714285, 'pneumonia': 0.14285714285714285, 'subsequent': 0.14285714285714285, 'renal': 0.14285714285714285, 'failure': 0.14285714285714285, 'Saudi': 0.14285714285714285, 'Arabia': 0.14285714285714285, '2012.8': 0.14285714285714285, 'December': 0.14285714285714285, 'discovered': 0.14285714285714285, 'Wuhan': 0.14285714285714285, 'World': 0.14285714285714285, 'Health': 0.14285714285714285, 'Organization': 0.14285714285714285, 'named': 0.2857142857142857, 'new': 0.14285714285714285, 'Study': 0.14285714285714285, 'Group': 0.14285714285714285, 'CSG': 0.14285714285714285, 'International': 0.14285714285714285, 'Committee': 0.14285714285714285, 'CoV-2.9,10': 0.14285714285714285, 'Based': 0.14285714285714285, 'results': 0.14285714285714285, 'sequencing': 0.14285714285714285, 'evolutionary': 0.14285714285714285, 'analysis': 0.14285714285714285, 'viral': 0.14285714285714285, 'bats': 0.14285714285714285, 'appear': 0.14285714285714285, 'responsible': 0.14285714285714285, 'transmitting': 0.14285714285714285}\n"
          ],
          "name": "stdout"
        }
      ]
    },
    {
      "cell_type": "code",
      "metadata": {
        "colab": {
          "base_uri": "https://localhost:8080/"
        },
        "id": "oeFlriXzIQmk",
        "outputId": "c2645a30-5c94-4d5c-f87d-c58ed06fc221"
      },
      "source": [
        "sentence_tokens= [sent for sent in doc.sents]\n",
        "print(sentence_tokens[0])"
      ],
      "execution_count": 25,
      "outputs": [
        {
          "output_type": "stream",
          "text": [
            "The human coronavirus was first diagnosed in 1965 by Tyrrell and Bynoe from the respiratory tract sample of an adult with a common cold cultured on human embryonic trachea.1\n"
          ],
          "name": "stdout"
        }
      ]
    },
    {
      "cell_type": "code",
      "metadata": {
        "id": "qgoDdo9DNBD8"
      },
      "source": [
        "sentence_scores = {}\n",
        "for sent in sentence_tokens:\n",
        "    for word in sent:\n",
        "        if word.text.lower() in word_frequencies.keys():\n",
        "            if sent not in sentence_scores.keys():                            \n",
        "             sentence_scores[sent]=word_frequencies[word.text.lower()]\n",
        "            else:\n",
        "             sentence_scores[sent]+=word_frequencies[word.text.lower()]\n"
      ],
      "execution_count": 27,
      "outputs": []
    },
    {
      "cell_type": "code",
      "metadata": {
        "colab": {
          "base_uri": "https://localhost:8080/"
        },
        "id": "YjRxomY6NdXS",
        "outputId": "4aefd430-63c1-4523-e2de-4709a2d05565"
      },
      "source": [
        "sentence_scores"
      ],
      "execution_count": 28,
      "outputs": [
        {
          "output_type": "execute_result",
          "data": {
            "text/plain": [
              "{The human coronavirus was first diagnosed in 1965 by Tyrrell and Bynoe from the respiratory tract sample of an adult with a common cold cultured on human embryonic trachea.1: 4.285714285714286,\n",
              " Naming the virus is based on its crown-like appearance on its surface.2 Coronaviruses (CoVs) are a large family of viruses belonging to the Nidovirales order, which includes Coronaviridae, Arteriviridae, and Roniviridae families.3 Coronavirus contains an RNA genome and belongs to the Coronaviridae: 3.7142857142857135,\n",
              " family.4: 0.14285714285714285,\n",
              " This virus is further subdivided into four groups, ie, the α, β, γ, and δ: 1.714285714285714,\n",
              " coronaviruses.5 α- and β-coronavirus can infect mammals, while γ- and δ- coronavirus tend to infect birds.6: 3.9999999999999996,\n",
              " Coronavirus in humans causes a range of disorders, from mild respiratory tract infections, such as the common cold to lethal infections, such as the severe acute respiratory syndrome (SARS), Middle East respiratory syndrome (MERS) and Coronavirus disease 2019 (COVID-19).: 9.714285714285712,\n",
              " The coronavirus first appeared in the form of severe acute respiratory syndrome coronavirus (SARS-CoV) in Guangdong province, China, in 20027 followed by Middle East respiratory syndrome coronavirus (MERS-CoV) isolated from the sputum of a 60-year-old man who presented symptoms of acute pneumonia and subsequent renal failure in Saudi Arabia in 2012.8 In December 2019, a β-coronavirus was discovered in Wuhan, China.: 11.428571428571427,\n",
              " The World Health Organization (WHO) has named the new disease as Coronavirus disease 2019 (COVID-19), and Coronavirus Study Group (CSG) of the International Committee has named it as SARS-CoV-2.9,10 Based on the results of sequencing and evolutionary analysis of the viral genome, bats appear to be responsible for transmitting the virus to humans: 6.4285714285714315}"
            ]
          },
          "metadata": {
            "tags": []
          },
          "execution_count": 28
        }
      ]
    },
    {
      "cell_type": "code",
      "metadata": {
        "colab": {
          "base_uri": "https://localhost:8080/"
        },
        "id": "5B6fyavQNn61",
        "outputId": "a000ec08-7b86-4f4b-a2e8-7fa058aa012a"
      },
      "source": [
        "from heapq import nlargest\n",
        "select_length=int(len(sentence_tokens)*0.3)\n",
        "select_length\n",
        "summary=nlargest(select_length, sentence_scores,key=sentence_scores.get)\n",
        "summary"
      ],
      "execution_count": 29,
      "outputs": [
        {
          "output_type": "execute_result",
          "data": {
            "text/plain": [
              "[The coronavirus first appeared in the form of severe acute respiratory syndrome coronavirus (SARS-CoV) in Guangdong province, China, in 20027 followed by Middle East respiratory syndrome coronavirus (MERS-CoV) isolated from the sputum of a 60-year-old man who presented symptoms of acute pneumonia and subsequent renal failure in Saudi Arabia in 2012.8 In December 2019, a β-coronavirus was discovered in Wuhan, China.,\n",
              " Coronavirus in humans causes a range of disorders, from mild respiratory tract infections, such as the common cold to lethal infections, such as the severe acute respiratory syndrome (SARS), Middle East respiratory syndrome (MERS) and Coronavirus disease 2019 (COVID-19).]"
            ]
          },
          "metadata": {
            "tags": []
          },
          "execution_count": 29
        }
      ]
    },
    {
      "cell_type": "code",
      "metadata": {
        "colab": {
          "base_uri": "https://localhost:8080/",
          "height": 86
        },
        "id": "yCi95YSuNukt",
        "outputId": "2200c4de-e889-481a-f822-96acd55a56ab"
      },
      "source": [
        "final_summary=[word.text for word in summary]\n",
        "final_summary\n",
        "summary=''.join(final_summary)\n",
        "summary"
      ],
      "execution_count": 30,
      "outputs": [
        {
          "output_type": "execute_result",
          "data": {
            "application/vnd.google.colaboratory.intrinsic+json": {
              "type": "string"
            },
            "text/plain": [
              "'The coronavirus first appeared in the form of severe acute respiratory syndrome coronavirus (SARS-CoV) in Guangdong province, China, in 20027 followed by Middle East respiratory syndrome coronavirus (MERS-CoV) isolated from the sputum of a 60-year-old man who presented symptoms of acute pneumonia and subsequent renal failure in Saudi Arabia in 2012.8 In December 2019, a β-coronavirus was discovered in Wuhan, China.Coronavirus in humans causes a range of disorders, from mild respiratory tract infections, such as the common cold to lethal infections, such as the severe acute respiratory syndrome (SARS), Middle East respiratory syndrome (MERS) and Coronavirus disease 2019 (COVID-19).'"
            ]
          },
          "metadata": {
            "tags": []
          },
          "execution_count": 30
        }
      ]
    }
  ]
}